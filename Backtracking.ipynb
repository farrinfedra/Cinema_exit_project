{
 "cells": [
  {
   "cell_type": "code",
   "execution_count": 1,
   "id": "1f88e99c",
   "metadata": {},
   "outputs": [],
   "source": [
    "def parse_iterator(source_name):\n",
    "    lines = []\n",
    "    with open(source_name) as file:\n",
    "        lines = file.readlines()\n",
    "    \n",
    "    #eliminate new line char\n",
    "    for idx, line in enumerate(lines):\n",
    "        if line[-1] == '\\n':\n",
    "            lines[idx] = line[0:-1]\n",
    "        \n",
    "    num_test_cases = int(lines[0])\n",
    "    maze_size_idx = 1\n",
    "    for test_id in range(num_test_cases):\n",
    "        # parse maze shape\n",
    "        maze_size = [int(i) for i in lines[maze_size_idx].split()]\n",
    "        row_count, col_count = maze_size                \n",
    "        \n",
    "        # init maze, exit, start positions\n",
    "        maze = [[0] * col_count for i in range(row_count)]\n",
    "        exit = None\n",
    "        start = None\n",
    "        \n",
    "        # parse maze\n",
    "        row = maze_size_idx + 1\n",
    "        for row_idx in range(row_count):\n",
    "            line = lines[row]\n",
    "            for col_idx in range(col_count):\n",
    "                if line[col_idx] == 'E':\n",
    "                    exit = (row_idx, col_idx)\n",
    "                if line[col_idx] == 'Y':\n",
    "                    start = (row_idx, col_idx)\n",
    "                if line[col_idx] == 'X':\n",
    "                    maze[row_idx][col_idx] = 0\n",
    "                else:\n",
    "                    maze[row_idx][col_idx] = 1\n",
    "            row += 1\n",
    "        yield(maze, start, exit)\n",
    "        maze_size_idx = row #set next maze size position\n",
    "    "
   ]
  },
  {
   "cell_type": "code",
   "execution_count": 2,
   "id": "e788bd45",
   "metadata": {},
   "outputs": [],
   "source": [
    "import sys"
   ]
  },
  {
   "cell_type": "code",
   "execution_count": 3,
   "id": "a8a383ed",
   "metadata": {},
   "outputs": [],
   "source": [
    "with open('small-testdata.out', 'r') as df:\n",
    "    lines = df.readlines()"
   ]
  },
  {
   "cell_type": "code",
   "execution_count": 4,
   "id": "f351b3bf",
   "metadata": {},
   "outputs": [],
   "source": [
    "lines = [l.replace('\\n', '') for l in lines]"
   ]
  },
  {
   "cell_type": "code",
   "execution_count": 5,
   "id": "f6e8c860",
   "metadata": {},
   "outputs": [
    {
     "data": {
      "text/plain": [
       "['4', '7', '5', '6', 'IMPOSSIBLE']"
      ]
     },
     "execution_count": 5,
     "metadata": {},
     "output_type": "execute_result"
    }
   ],
   "source": [
    "lines"
   ]
  },
  {
   "cell_type": "code",
   "execution_count": 76,
   "id": "e980bbc6",
   "metadata": {},
   "outputs": [
    {
     "name": "stdout",
     "output_type": "stream",
     "text": [
      "[[1, 1, 1, 1, 0], [1, 1, 1, 1, 1]] (1, 4) (0, 0)\n",
      "[[1, 0, 1, 1, 1], [1, 1, 1, 0, 1]] (1, 4) (0, 0)\n",
      "[[1, 1, 1, 0, 0], [0, 1, 0, 0, 0], [0, 1, 1, 1, 0], [0, 0, 1, 0, 0], [0, 0, 1, 1, 1]] (4, 4) (0, 0)\n",
      "[[1, 1, 1, 0, 0], [0, 1, 0, 0, 0], [0, 1, 1, 1, 0], [0, 0, 1, 0, 0], [0, 0, 1, 1, 1]] (4, 4) (0, 2)\n",
      "[[0, 1, 0], [0, 0, 0], [0, 1, 0]] (0, 1) (2, 1)\n"
     ]
    }
   ],
   "source": [
    "for maze, start, exit in parse_iterator('small-testdata.in'):\n",
    "    print(maze, start, exit)"
   ]
  },
  {
   "cell_type": "code",
   "execution_count": 28,
   "id": "4083f375",
   "metadata": {},
   "outputs": [],
   "source": [
    "def get_maze_size(maze):\n",
    "    return (len(maze), len(maze[0]))"
   ]
  },
  {
   "cell_type": "code",
   "execution_count": null,
   "id": "5207add0",
   "metadata": {},
   "outputs": [],
   "source": [
    "import sys\n",
    "\n",
    "def isPath(maze, visited, i, j):\n",
    "    \"Checks whether i, j are 1. within boundaries 2. not prev. visited 3. no audionce X\"\n",
    "    return 0 <= i < len(maze) and 0 <= j < len(maze[0]) and not (maze[i][j] == 0 or visited[i][j])\n",
    " "
   ]
  },
  {
   "cell_type": "code",
   "execution_count": 134,
   "id": "044c01cf",
   "metadata": {},
   "outputs": [],
   "source": [
    "def findMinDistance(mat, visited, start, dest, direction, min_dist=sys.maxsize, dist=0):\n",
    "    \n",
    "    i, j = start\n",
    "        \n",
    "    if start == dest:\n",
    "        print(\"GOES HERE\")\n",
    "        print(dist)\n",
    "        print(min_dist)\n",
    "        min_dis = min(dist, min_dist)\n",
    "        return min_dis, direction\n",
    " \n",
    "    visited[i][j] = 1\n",
    "    # right\n",
    "    if isPath(mat, visited, i, j + 1):\n",
    "        start = (i, j + 1)\n",
    "        direction.append('R')\n",
    "        min_dist, direction = findMinDistance(mat, visited, start, dest, direction, min_dist, dist + 1) \n",
    "        \n",
    " \n",
    "    # left\n",
    "    if isPath(mat, visited, i, j - 1):\n",
    "        start = (i, j - 1)\n",
    "        direction.append('L')\n",
    "        min_dist, direction = findMinDistance(mat, visited, start, dest, direction, min_dist, dist + 1)\n",
    " \n",
    "    # up\n",
    "    if isPath(mat, visited, i - 1, j):\n",
    "        start = (i - 1, j)\n",
    "        direction.append('U')\n",
    "        min_dist, direction = findMinDistance(mat, visited, start, dest, direction, min_dist, dist + 1)\n",
    " \n",
    "    # down\n",
    "    if isPath(mat, visited, i + 1, j):\n",
    "        start = (i + 1, j)\n",
    "        direction.append('D')\n",
    "        min_dist, direction = findMinDistance(mat, visited, start, dest, direction, min_dist, dist + 1)\n",
    " \n",
    "    \n",
    " \n",
    "    # backtrack\n",
    "    visited[i][j] = 0\n",
    "    #direction.pop()\n",
    "    return min_dist, direction\n",
    " \n",
    " \n",
    "def exit_cinema(maze, start, exit):\n",
    "    \"Initializes maze and visited matrix, calls recursive function. Returns: min distance\"\n",
    "    (M, N) = get_maze_size(maze)\n",
    "    visited = [[False for _ in range(N)] for _ in range(M)]\n",
    "    direction = []\n",
    "    min_dist, direction = findMinDistance(maze, visited, start, exit, direction)\n",
    " \n",
    "    if min_dist != sys.maxsize:\n",
    "        return min_dist, direction\n",
    "    else:\n",
    "        return -1"
   ]
  },
  {
   "cell_type": "code",
   "execution_count": 135,
   "id": "deb10ac8",
   "metadata": {},
   "outputs": [
    {
     "name": "stdout",
     "output_type": "stream",
     "text": [
      "GOES HERE\n",
      "8\n",
      "9223372036854775807\n"
     ]
    }
   ],
   "source": [
    "maze = [[1, 1, 1, 0, 0], [0, 1, 0, 0, 0], [0, 1, 1, 1, 0], [0, 0, 1, 0, 0], [0, 0, 1, 1, 1]]\n",
    "start = (4, 4)\n",
    "exit = (0, 0)\n",
    "min_dist, direction = exit_cinema(maze, start, exit)"
   ]
  },
  {
   "cell_type": "code",
   "execution_count": 136,
   "id": "1e935be3",
   "metadata": {},
   "outputs": [
    {
     "name": "stdout",
     "output_type": "stream",
     "text": [
      "length: 8 ['L', 'L', 'U', 'U', 'R', 'L', 'U', 'U', 'R', 'L']\n"
     ]
    }
   ],
   "source": [
    "if min_dist != -1:\n",
    "        print(\"length:\", min_dist, direction)\n",
    "else:\n",
    "        print(\"IMPOSSIBLE\")"
   ]
  },
  {
   "cell_type": "code",
   "execution_count": null,
   "id": "f90eee03",
   "metadata": {},
   "outputs": [],
   "source": []
  }
 ],
 "metadata": {
  "kernelspec": {
   "display_name": "Python 3 (ipykernel)",
   "language": "python",
   "name": "python3"
  },
  "language_info": {
   "codemirror_mode": {
    "name": "ipython",
    "version": 3
   },
   "file_extension": ".py",
   "mimetype": "text/x-python",
   "name": "python",
   "nbconvert_exporter": "python",
   "pygments_lexer": "ipython3",
   "version": "3.9.0"
  }
 },
 "nbformat": 4,
 "nbformat_minor": 5
}
