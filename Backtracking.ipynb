{
 "cells": [
  {
   "cell_type": "code",
   "execution_count": 1,
   "id": "ed411237",
   "metadata": {},
   "outputs": [],
   "source": [
    "def parse_iterator(source_name):\n",
    "    lines = []\n",
    "    with open(source_name) as file:\n",
    "        lines = file.readlines()\n",
    "    \n",
    "    #eliminate new line char\n",
    "    for idx, line in enumerate(lines):\n",
    "        if line[-1] == '\\n':\n",
    "            lines[idx] = line[0:-1]\n",
    "        \n",
    "    num_test_cases = int(lines[0])\n",
    "    maze_size_idx = 1\n",
    "    for test_id in range(num_test_cases):\n",
    "        # parse maze shape\n",
    "        maze_size = [int(i) for i in lines[maze_size_idx].split()]\n",
    "        row_count, col_count = maze_size                \n",
    "        \n",
    "        # init maze, exit, start positions\n",
    "        maze = [[0] * col_count for i in range(row_count)]\n",
    "        exit = None\n",
    "        start = None\n",
    "        \n",
    "        # parse maze\n",
    "        row = maze_size_idx + 1\n",
    "        for row_idx in range(row_count):\n",
    "            line = lines[row]\n",
    "            for col_idx in range(col_count):\n",
    "                if line[col_idx] == 'E':\n",
    "                    exit = (row_idx, col_idx)\n",
    "                if line[col_idx] == 'Y':\n",
    "                    start = (row_idx, col_idx)\n",
    "                if line[col_idx] == 'X':\n",
    "                    maze[row_idx][col_idx] = 1\n",
    "            row += 1\n",
    "        yield(maze, start, exit)\n",
    "        maze_size_idx = row #set next maze size position\n",
    "    "
   ]
  },
  {
   "cell_type": "code",
   "execution_count": 9,
   "id": "c992082b",
   "metadata": {},
   "outputs": [],
   "source": [
    "with open('small-testdata.out', 'r') as df:\n",
    "    lines = df.readlines()"
   ]
  },
  {
   "cell_type": "code",
   "execution_count": 10,
   "id": "5f70ee5c",
   "metadata": {},
   "outputs": [],
   "source": [
    "lines = [l.replace('\\n', '') for l in lines]"
   ]
  },
  {
   "cell_type": "code",
   "execution_count": 11,
   "id": "2224b098",
   "metadata": {},
   "outputs": [
    {
     "data": {
      "text/plain": [
       "['4', '7', '5', '6', 'IMPOSSIBLE']"
      ]
     },
     "execution_count": 11,
     "metadata": {},
     "output_type": "execute_result"
    }
   ],
   "source": [
    "lines"
   ]
  },
  {
   "cell_type": "code",
   "execution_count": 14,
   "id": "8706b68d",
   "metadata": {},
   "outputs": [
    {
     "name": "stdout",
     "output_type": "stream",
     "text": [
      "[[0, 0, 0, 0, 1], [0, 0, 0, 0, 0]] (1, 4) (0, 0)\n",
      "[[0, 1, 0, 0, 0], [0, 0, 0, 1, 0]] (1, 4) (0, 0)\n",
      "[[0, 0, 0, 1, 1], [1, 0, 1, 1, 1], [1, 0, 0, 0, 1], [1, 1, 0, 1, 1], [1, 1, 0, 0, 0]] (4, 4) (0, 0)\n",
      "[[0, 0, 0, 1, 1], [1, 0, 1, 1, 1], [1, 0, 0, 0, 1], [1, 1, 0, 1, 1], [1, 1, 0, 0, 0]] (4, 4) (0, 2)\n",
      "[[1, 0, 1], [1, 1, 1], [1, 0, 1]] (0, 1) (2, 1)\n"
     ]
    }
   ],
   "source": [
    "for maze, start, exit in parse_iterator('small-testdata.in'):\n",
    "    print(maze, start, exit)\n",
    "    distance = exit_cinema(maze, start, exit)\n",
    "    print(distance) #should add the path as well"
   ]
  },
  {
   "cell_type": "code",
   "execution_count": null,
   "id": "093d169c",
   "metadata": {},
   "outputs": [],
   "source": [
    "def exit_cinema(maze, start, exit):\n",
    "    \"Initializes maze and visited matrix, calls recursive function. Returns: min distance\"\n",
    "    \n",
    "    # cinema (maze) size\n",
    "    rows = len(maze)\n",
    "    cols = len(maze[0])\n",
    "    \n",
    "    #visited array to avoid cycles: revisiting an improper seat; init state = all zeros\n",
    "    visited = [[0 for _ in range(cols)]] * rows\n",
    "    path_lenght = 0\n",
    "    distance = findMinDistance(maze, start, exit, visited, path_length)\n",
    "    \n",
    "    if distance < 0:\n",
    "        return \"IMPOSSIBLE\"\n",
    "    else:\n",
    "        return distance"
   ]
  },
  {
   "cell_type": "code",
   "execution_count": null,
   "id": "158c2233",
   "metadata": {},
   "outputs": [],
   "source": [
    "def findMinDistance(maze, start, exit, visited, path_length):\n",
    "    #exit, start indices\n",
    "    i, j = exit\n",
    "    e, d = start"
   ]
  },
  {
   "cell_type": "code",
   "execution_count": null,
   "id": "02a1922d",
   "metadata": {},
   "outputs": [],
   "source": []
  }
 ],
 "metadata": {
  "kernelspec": {
   "display_name": "Python 3 (ipykernel)",
   "language": "python",
   "name": "python3"
  },
  "language_info": {
   "codemirror_mode": {
    "name": "ipython",
    "version": 3
   },
   "file_extension": ".py",
   "mimetype": "text/x-python",
   "name": "python",
   "nbconvert_exporter": "python",
   "pygments_lexer": "ipython3",
   "version": "3.9.0"
  }
 },
 "nbformat": 4,
 "nbformat_minor": 5
}
