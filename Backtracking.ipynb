{
 "cells": [
  {
   "cell_type": "code",
   "execution_count": 1,
   "id": "3c98f66e",
   "metadata": {},
   "outputs": [],
   "source": [
    "def parse_iterator(source_name):\n",
    "    lines = []\n",
    "    with open(source_name) as file:\n",
    "        lines = file.readlines()\n",
    "    \n",
    "    #eliminate new line char\n",
    "    for idx, line in enumerate(lines):\n",
    "        if line[-1] == '\\n':\n",
    "            lines[idx] = line[0:-1]\n",
    "        \n",
    "    num_test_cases = int(lines[0])\n",
    "    maze_size_idx = 1\n",
    "    for test_id in range(num_test_cases):\n",
    "        # parse maze shape\n",
    "        maze_size = [int(i) for i in lines[maze_size_idx].split()]\n",
    "        row_count, col_count = maze_size                \n",
    "        \n",
    "        # init maze, exit, start positions\n",
    "        maze = [[0] * col_count for i in range(row_count)]\n",
    "        exit = None\n",
    "        start = None\n",
    "        \n",
    "        # parse maze\n",
    "        row = maze_size_idx + 1\n",
    "        for row_idx in range(row_count):\n",
    "            line = lines[row]\n",
    "            for col_idx in range(col_count):\n",
    "                if line[col_idx] == 'E':\n",
    "                    exit = (row_idx, col_idx)\n",
    "                if line[col_idx] == 'Y':\n",
    "                    start = (row_idx, col_idx)\n",
    "                if line[col_idx] == 'X':\n",
    "                    maze[row_idx][col_idx] = 1\n",
    "            row += 1\n",
    "        yield(maze, start, exit)\n",
    "        maze_size_idx = row #set next maze size position\n",
    "    "
   ]
  },
  {
   "cell_type": "code",
   "execution_count": 2,
   "id": "c9ffc15e",
   "metadata": {},
   "outputs": [],
   "source": [
    "with open('small-testdata.out', 'r') as df:\n",
    "    lines = df.readlines()"
   ]
  },
  {
   "cell_type": "code",
   "execution_count": 10,
   "id": "62705592",
   "metadata": {},
   "outputs": [],
   "source": [
    "lines = [l.replace('\\n', '') for l in lines]"
   ]
  },
  {
   "cell_type": "code",
   "execution_count": 11,
   "id": "6cf386ea",
   "metadata": {},
   "outputs": [
    {
     "data": {
      "text/plain": [
       "['4', '7', '5', '6', 'IMPOSSIBLE']"
      ]
     },
     "execution_count": 11,
     "metadata": {},
     "output_type": "execute_result"
    }
   ],
   "source": [
    "lines"
   ]
  },
  {
   "cell_type": "code",
   "execution_count": 12,
   "id": "6e6814ec",
   "metadata": {},
   "outputs": [],
   "source": [
    "def get_maze_size(maze):\n",
    "    rows = len(maze)\n",
    "    cols = len(maze[0])\n",
    "    return (rows, cols)"
   ]
  },
  {
   "cell_type": "code",
   "execution_count": 20,
   "id": "5fc12ab9",
   "metadata": {},
   "outputs": [],
   "source": [
    "def isPath(maze, i, j, visited):\n",
    "    \"Checks whether i, j are 1. within boundaries 2. not prev. visited 3. no audionce X\"\n",
    "    rows, cols = get_maze_size(maze) \n",
    "    return 0 <= i < rows and 0 <= j < cols and visited[i][j] == 0 and maze[i][j] == 0\n",
    "    "
   ]
  },
  {
   "cell_type": "code",
   "execution_count": 28,
   "id": "785a0d25",
   "metadata": {},
   "outputs": [],
   "source": [
    "def findMinDistance(maze, start, exit, visited, path_length):\n",
    "    #exit, start indices\n",
    "    i, j = start\n",
    "    #e, d = exit\n",
    "    \n",
    "    if start == exit:\n",
    "        return path_length\n",
    "    \n",
    "    visited[i][j] = 1\n",
    "    path_length += 1\n",
    "    #check right\n",
    "    if isPath(maze, i, j + 1, visited):\n",
    "        start = (i, j + 1)\n",
    "        path_length = findMinDistance(maze, start, exit, visited, path_length + 1)\n",
    "    \n",
    "    #check left\n",
    "    if isPath(maze, i, j - 1, visited):\n",
    "        start = (i, j - 1)\n",
    "        path_length = findMinDistance(maze, start, exit, visited, path_length + 1)\n",
    "    \n",
    "    #check down\n",
    "    if isPath(maze, i + 1, j, visited):\n",
    "        start = (i + 1, j)\n",
    "        path_length = findMinDistance(maze, start, exit, visited, path_length + 1)\n",
    "    \n",
    "    #check up\n",
    "    if isPath(maze, i - 1, j, visited):\n",
    "        start = (i - 1, j)\n",
    "        path_length = findMinDistance(maze, start, exit, visited, path_length + 1)\n",
    "        \n",
    "    #backtrack\n",
    "    visited[i][j] = 0\n",
    "    return path_length\n",
    "    "
   ]
  },
  {
   "cell_type": "code",
   "execution_count": 29,
   "id": "86bd63d4",
   "metadata": {},
   "outputs": [],
   "source": [
    "def exit_cinema(maze, start, exit):\n",
    "    \"Initializes maze and visited matrix, calls recursive function. Returns: min distance\"\n",
    "    \n",
    "    # cinema (maze) size\n",
    "    rows, cols = get_maze_size(maze)\n",
    "    #visited array to avoid cycles: revisiting an improper seat; init state = all zeros\n",
    "    visited = [[0 for _ in range(cols)]] * rows\n",
    "    print(\"visited shape: {s} {h}, visited: {v}\".format(s = len(visited), h = len(visited[0]), v = visited))\n",
    "    path_lenght = 0\n",
    "    distance = findMinDistance(maze, start, exit, visited, path_lenght)\n",
    "    print(distance)\n",
    "    if distance < 0:\n",
    "        return \"IMPOSSIBLE\"\n",
    "    else:\n",
    "        return distance"
   ]
  },
  {
   "cell_type": "code",
   "execution_count": 30,
   "id": "fb9355e2",
   "metadata": {},
   "outputs": [
    {
     "name": "stdout",
     "output_type": "stream",
     "text": [
      "visited shape: 2 5, visited: [[0, 0, 0, 0, 0], [0, 0, 0, 0, 0]]\n",
      "9\n",
      "Minimum distance is: 9\n"
     ]
    }
   ],
   "source": [
    "#for maze, start, exit in parse_iterator('small-testdata.in'):\n",
    "    #print(\"The Cinema\")\n",
    "    #print(\"-------------------------------------------CINEMA------------------------------------------\")\n",
    "    #print(maze, start, exit)\n",
    "maze = [[0, 0, 0, 0, 1], [0, 0, 0, 0, 0]]\n",
    "start = (1, 4)\n",
    "exit = (0, 0)\n",
    "distance = exit_cinema(maze, start, exit)\n",
    "print(\"Minimum distance is: {d}\".format(d = distance)) #should add the path as well\n",
    "    #break"
   ]
  },
  {
   "cell_type": "code",
   "execution_count": null,
   "id": "169a57ec",
   "metadata": {},
   "outputs": [],
   "source": [
    "visited"
   ]
  },
  {
   "cell_type": "code",
   "execution_count": 27,
   "id": "e2133301",
   "metadata": {},
   "outputs": [
    {
     "data": {
      "text/plain": [
       "[(2, 3), (1, 3)]"
      ]
     },
     "execution_count": 27,
     "metadata": {},
     "output_type": "execute_result"
    }
   ],
   "source": []
  },
  {
   "cell_type": "code",
   "execution_count": null,
   "id": "8d39d877",
   "metadata": {},
   "outputs": [],
   "source": []
  }
 ],
 "metadata": {
  "kernelspec": {
   "display_name": "Python 3 (ipykernel)",
   "language": "python",
   "name": "python3"
  },
  "language_info": {
   "codemirror_mode": {
    "name": "ipython",
    "version": 3
   },
   "file_extension": ".py",
   "mimetype": "text/x-python",
   "name": "python",
   "nbconvert_exporter": "python",
   "pygments_lexer": "ipython3",
   "version": "3.9.0"
  }
 },
 "nbformat": 4,
 "nbformat_minor": 5
}
